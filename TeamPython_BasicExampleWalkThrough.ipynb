{
 "cells": [
  {
   "cell_type": "markdown",
   "metadata": {},
   "source": [
    "# Team Python: A Sentiment Analysis of Terms and Topics"
   ]
  },
  {
   "cell_type": "markdown",
   "metadata": {},
   "source": [
    "### All of our functions are saved in a single python doc for ease of reading\n",
    "#### We import these functions below:"
   ]
  },
  {
   "cell_type": "code",
   "execution_count": 1,
   "metadata": {
    "collapsed": false
   },
   "outputs": [],
   "source": [
    "import GoogFunctions as GF #Our code\n",
    "import pandas as pd"
   ]
  },
  {
   "cell_type": "markdown",
   "metadata": {},
   "source": [
    "### Next let's chose a search term to analyze:"
   ]
  },
  {
   "cell_type": "code",
   "execution_count": 2,
   "metadata": {
    "collapsed": false
   },
   "outputs": [
    {
     "name": "stdout",
     "output_type": "stream",
     "text": [
      "Enter a search term or topic you'd like to analyze:\n",
      "Trump\n"
     ]
    }
   ],
   "source": [
    "text_input = input('Enter a search term or topic you\\'d like to analyze:\\n')"
   ]
  },
  {
   "cell_type": "markdown",
   "metadata": {},
   "source": [
    "### The first thing that we can consider are some similar search terms?\n",
    "\n",
    "#### To detemine this we run our first function, GoogleCorrelation\n",
    " - This function scrapes data from the Google Correlate site's HTML, in real-time\n",
    " - https://google.com/trends/correlate"
   ]
  },
  {
   "cell_type": "code",
   "execution_count": 3,
   "metadata": {
    "collapsed": false
   },
   "outputs": [],
   "source": [
    "#Using 95% threshold\n",
    "related_terms = GF.GoogleCorrelation(text_input,95)"
   ]
  },
  {
   "cell_type": "code",
   "execution_count": 4,
   "metadata": {
    "collapsed": false
   },
   "outputs": [
    {
     "data": {
      "text/html": [
       "<div>\n",
       "<table border=\"1\" class=\"dataframe\">\n",
       "  <thead>\n",
       "    <tr style=\"text-align: right;\">\n",
       "      <th></th>\n",
       "      <th>relevance_score</th>\n",
       "    </tr>\n",
       "    <tr>\n",
       "      <th>related_term</th>\n",
       "      <th></th>\n",
       "    </tr>\n",
       "  </thead>\n",
       "  <tbody>\n",
       "    <tr>\n",
       "      <th>Trump</th>\n",
       "      <td>1.0000</td>\n",
       "    </tr>\n",
       "    <tr>\n",
       "      <th>donald trump</th>\n",
       "      <td>0.9893</td>\n",
       "    </tr>\n",
       "    <tr>\n",
       "      <th>d trump</th>\n",
       "      <td>0.9716</td>\n",
       "    </tr>\n",
       "    <tr>\n",
       "      <th>trumps</th>\n",
       "      <td>0.9705</td>\n",
       "    </tr>\n",
       "    <tr>\n",
       "      <th>is donald trump</th>\n",
       "      <td>0.9697</td>\n",
       "    </tr>\n",
       "    <tr>\n",
       "      <th>trump.</th>\n",
       "      <td>0.9638</td>\n",
       "    </tr>\n",
       "    <tr>\n",
       "      <th>donald trump facebook</th>\n",
       "      <td>0.9626</td>\n",
       "    </tr>\n",
       "    <tr>\n",
       "      <th>trump facebook</th>\n",
       "      <td>0.9619</td>\n",
       "    </tr>\n",
       "    <tr>\n",
       "      <th>about donald trump</th>\n",
       "      <td>0.9577</td>\n",
       "    </tr>\n",
       "    <tr>\n",
       "      <th>donald trump.</th>\n",
       "      <td>0.9527</td>\n",
       "    </tr>\n",
       "    <tr>\n",
       "      <th>trimp</th>\n",
       "      <td>0.9520</td>\n",
       "    </tr>\n",
       "    <tr>\n",
       "      <th>trup</th>\n",
       "      <td>0.9505</td>\n",
       "    </tr>\n",
       "  </tbody>\n",
       "</table>\n",
       "</div>"
      ],
      "text/plain": [
       "                       relevance_score\n",
       "related_term                          \n",
       "Trump                           1.0000\n",
       "donald trump                    0.9893\n",
       "d trump                         0.9716\n",
       "trumps                          0.9705\n",
       "is donald trump                 0.9697\n",
       "trump.                          0.9638\n",
       "donald trump facebook           0.9626\n",
       "trump facebook                  0.9619\n",
       "about donald trump              0.9577\n",
       "donald trump.                   0.9527\n",
       "trimp                           0.9520\n",
       "trup                            0.9505"
      ]
     },
     "execution_count": 4,
     "metadata": {},
     "output_type": "execute_result"
    }
   ],
   "source": [
    "#Create a dataframe for demonstration purposes\n",
    "related_terms_df = pd.DataFrame(related_terms, columns = ['related_term','relevance_score']).set_index('related_term')\n",
    "related_terms_df"
   ]
  },
  {
   "cell_type": "markdown",
   "metadata": {},
   "source": [
    "### Next let's consider search term frequency over time"
   ]
  },
  {
   "cell_type": "code",
   "execution_count": 5,
   "metadata": {
    "collapsed": false
   },
   "outputs": [
    {
     "data": {
      "text/plain": [
       "<matplotlib.axes._subplots.AxesSubplot at 0x11570c6d8>"
      ]
     },
     "execution_count": 5,
     "metadata": {},
     "output_type": "execute_result"
    },
    {
     "data": {
      "image/png": "[encoded data removed]",
      "text/plain": [
       "<matplotlib.figure.Figure at 0x115710b38>"
      ]
     },
     "metadata": {},
     "output_type": "display_data"
    }
   ],
   "source": [
    "#Create a dataframe and plot it for demonstration purposes\n",
    "%matplotlib inline\n",
    "\n",
    "columns = ['month','relative_frequency']\n",
    "frequency = GF.GetSearchFrequency(text_input)\n",
    "pd.DataFrame(frequency, columns=columns).plot(kind='line')"
   ]
  },
  {
   "cell_type": "code",
   "execution_count": 6,
   "metadata": {
    "collapsed": false
   },
   "outputs": [],
   "source": [
    "#format the frequency for use in the search term lookup function\n",
    "\n",
    "frequency_frmt = list(map(lambda x: GF.GetStartEnd(x),frequency))"
   ]
  },
  {
   "cell_type": "code",
   "execution_count": 7,
   "metadata": {
    "collapsed": false
   },
   "outputs": [],
   "source": [
    "#take the period where the search term was the most popular\n",
    "\n",
    "frequency_max = list(filter(lambda x: x[2] == 100,frequency_frmt))[0]"
   ]
  },
  {
   "cell_type": "markdown",
   "metadata": {},
   "source": [
    "### Using the max period of relevance for the search term we scrape google news search results for article URLs"
   ]
  },
  {
   "cell_type": "code",
   "execution_count": 8,
   "metadata": {
    "collapsed": false
   },
   "outputs": [
    {
     "data": {
      "text/plain": [
       "['http://www.usatoday.com/story/news/politics/onpolitics/2016/12/09/washington-post-cia-report-russia-intervened-election/95230696/',\n",
       " 'http://www.cnn.com/2016/12/07/politics/trump-picks-scott-pruitt-to-head-epa/']"
      ]
     },
     "execution_count": 8,
     "metadata": {},
     "output_type": "execute_result"
    }
   ],
   "source": [
    "#Using the search term and the most popular period, pull all articles from google news\n",
    "    #Note: We are omitting articles from NY Times because of issues scraping their site\n",
    "\n",
    "st_date = frequency_max[0]\n",
    "end_date = frequency_max[1]\n",
    "\n",
    "news_urls = GF.GoogleNewsLinks(text_input, st_date, end_date)\n",
    "news_urls_rmv = list(filter(lambda x: GF.GetArticleDomain(x) != 'http://www.nytimes.com/',news_urls))[:2]\n",
    "news_urls_rmv"
   ]
  },
  {
   "cell_type": "markdown",
   "metadata": {},
   "source": [
    "### The immediate next step is to scrape the article text from the HTML by following the URLs from above"
   ]
  },
  {
   "cell_type": "code",
   "execution_count": 9,
   "metadata": {
    "collapsed": false
   },
   "outputs": [],
   "source": [
    "#Map the Get article function through the list of article URLs identified earlier\n",
    "\n",
    "news_text = list(map(lambda x: GF.GetArticle(x),news_urls_rmv))\n",
    "#news_text[0]"
   ]
  },
  {
   "cell_type": "markdown",
   "metadata": {},
   "source": [
    "### The Next Step is to use the Watson tone analyzer"
   ]
  },
  {
   "cell_type": "code",
   "execution_count": 10,
   "metadata": {
    "collapsed": false,
    "scrolled": true
   },
   "outputs": [
    {
     "data": {
      "text/plain": [
       "{'document_tone': {'tone_categories': [{'category_id': 'emotion_tone',\n",
       "    'category_name': 'Emotion Tone',\n",
       "    'tones': [{'score': 0.419193, 'tone_id': 'anger', 'tone_name': 'Anger'},\n",
       "     {'score': 0.270677, 'tone_id': 'disgust', 'tone_name': 'Disgust'},\n",
       "     {'score': 0.065295, 'tone_id': 'fear', 'tone_name': 'Fear'},\n",
       "     {'score': 0.004546, 'tone_id': 'joy', 'tone_name': 'Joy'},\n",
       "     {'score': 0.284715, 'tone_id': 'sadness', 'tone_name': 'Sadness'}]},\n",
       "   {'category_id': 'language_tone',\n",
       "    'category_name': 'Language Tone',\n",
       "    'tones': [{'score': 0.292781,\n",
       "      'tone_id': 'analytical',\n",
       "      'tone_name': 'Analytical'},\n",
       "     {'score': 0.0, 'tone_id': 'confident', 'tone_name': 'Confident'},\n",
       "     {'score': 0.056841, 'tone_id': 'tentative', 'tone_name': 'Tentative'}]},\n",
       "   {'category_id': 'social_tone',\n",
       "    'category_name': 'Social Tone',\n",
       "    'tones': [{'score': 0.716833,\n",
       "      'tone_id': 'openness_big5',\n",
       "      'tone_name': 'Openness'},\n",
       "     {'score': 0.999239,\n",
       "      'tone_id': 'conscientiousness_big5',\n",
       "      'tone_name': 'Conscientiousness'},\n",
       "     {'score': 0.968658,\n",
       "      'tone_id': 'extraversion_big5',\n",
       "      'tone_name': 'Extraversion'},\n",
       "     {'score': 0.906579,\n",
       "      'tone_id': 'agreeableness_big5',\n",
       "      'tone_name': 'Agreeableness'},\n",
       "     {'score': 0.964182,\n",
       "      'tone_id': 'emotional_range_big5',\n",
       "      'tone_name': 'Emotional Range'}]}]}}"
      ]
     },
     "execution_count": 10,
     "metadata": {},
     "output_type": "execute_result"
    }
   ],
   "source": [
    "#For demonstration purposes - only run for 1 article\n",
    "\n",
    "watsonresponse = GF.GetWatsonTones(news_text[0])\n",
    "watsonresponse"
   ]
  },
  {
   "cell_type": "markdown",
   "metadata": {},
   "source": [
    "#### Notice how messy the JSON object is --> Let's clean it up:"
   ]
  },
  {
   "cell_type": "code",
   "execution_count": 12,
   "metadata": {
    "collapsed": false
   },
   "outputs": [
    {
     "data": {
      "text/plain": [
       "[['Emotion Tone', 'Anger', 0.419193],\n",
       " ['Emotion Tone', 'Disgust', 0.270677],\n",
       " ['Emotion Tone', 'Fear', 0.065295],\n",
       " ['Language Tone', 'Analytical', 0.292781],\n",
       " ['Language Tone', 'Confident', 0.0],\n",
       " ['Language Tone', 'Tentative', 0.056841],\n",
       " ['Social Tone', 'Openness', 0.716833],\n",
       " ['Social Tone', 'Conscientiousness', 0.999239],\n",
       " ['Social Tone', 'Extraversion', 0.968658]]"
      ]
     },
     "execution_count": 12,
     "metadata": {},
     "output_type": "execute_result"
    }
   ],
   "source": [
    "watson_scores = GF.convert_json(watsonresponse)\n",
    "watson_scores"
   ]
  },
  {
   "cell_type": "markdown",
   "metadata": {},
   "source": [
    "### Lastly Let's consider the tones as a dataframe:"
   ]
  },
  {
   "cell_type": "code",
   "execution_count": 13,
   "metadata": {
    "collapsed": false
   },
   "outputs": [
    {
     "data": {
      "image/png": "[encoded data removed]",
      "text/plain": [
       "<matplotlib.figure.Figure at 0x1189e1320>"
      ]
     },
     "metadata": {},
     "output_type": "display_data"
    }
   ],
   "source": [
    "names = ['Emotion Category', 'Emotion', 'Score']\n",
    "%matplotlib inline\n",
    "sccores_df = pd.DataFrame(watson_scores, columns=names).set_index(['Emotion Category','Emotion']).plot(kind='bar')"
   ]
  },
  {
   "cell_type": "markdown",
   "metadata": {},
   "source": [
    "## How to Read the Tonal Scores from Watson\n",
    "#### Less than 0.5 - less likely to be perceived as that emotion\n",
    "#### Greater than 0.75 - more likely to be perceived as that emotion\n",
    "\n",
    "    - Anything between 0.5 and 0.75 is too ambiguous to solve for"
   ]
  }
 ],
 "metadata": {
  "anaconda-cloud": {},
  "kernelspec": {
   "display_name": "Python [Root]",
   "language": "python",
   "name": "Python [Root]"
  },
  "language_info": {
   "codemirror_mode": {
    "name": "ipython",
    "version": 3
   },
   "file_extension": ".py",
   "mimetype": "text/x-python",
   "name": "python",
   "nbconvert_exporter": "python",
   "pygments_lexer": "ipython3",
   "version": "3.5.2"
  }
 },
 "nbformat": 4,
 "nbformat_minor": 0
}
